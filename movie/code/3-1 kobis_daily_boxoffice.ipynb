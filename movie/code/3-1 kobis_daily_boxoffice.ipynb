{
 "cells": [
  {
   "cell_type": "markdown",
   "metadata": {},
   "source": [
    "# 3. KOBIS OPENAPI\n",
    "\n",
    "영화관 입장권 통합 전산망 OPENAPI를 사용하여 일일 박스오피스 자료를 가져오고 JSON파일로 저장\n",
    "\n",
    "##  1) 일별 박스오피스\n",
    "kobis에서 일별박스오피스 api를 활용하여 movieCd, movieNm, openDt, salesAmt, salesShare, salesInten, salesChange, salesAcc, audiCnt, audiInten, audiChange, audiAcc, scrnCnt, showCnt, CurrentDate, Nation 을 추출\n",
    "\n",
    "##  2) 영화 상세정보\n",
    "kobis에서 영화상세정보 api를 활용하여 movieCd, movieNm, movieNmEn, movieNmOg, showTm, prdtYear, openDt, prdtStatNm, typeNm, nations, genres, directors, actors 를 추출 = movie_info.txt\n",
    "\n",
    "\n",
    "\n",
    "\n"
   ]
  },
  {
   "cell_type": "markdown",
   "metadata": {},
   "source": [
    "."
   ]
  },
  {
   "cell_type": "markdown",
   "metadata": {},
   "source": [
    "."
   ]
  },
  {
   "cell_type": "markdown",
   "metadata": {},
   "source": [
    "# 3.1 일별 박스오피스"
   ]
  },
  {
   "cell_type": "markdown",
   "metadata": {},
   "source": [
    "### 1) kobis API를 통해 일별 박스오피스 데이터를 받아온다. \n",
    "###     파일은' 해당일자'를 이름으로 지정하고\n",
    "###     JSON 타입으로 저장한다.\n"
   ]
  },
  {
   "cell_type": "code",
   "execution_count": 1,
   "metadata": {},
   "outputs": [],
   "source": [
    "import os\n",
    "import requests\n",
    "import json\n",
    "import calendar\n",
    "from tqdm import tqdm\n",
    "from tqdm import tqdm_notebook\n",
    "from datetime import date, timedelta\n",
    "\n",
    "key='ad816991534afeaef71f07e7336b0d61'\n",
    "movie_info_path='/home/ubuntu/miniii_su/movie/'"
   ]
  },
  {
   "cell_type": "code",
   "execution_count": 2,
   "metadata": {},
   "outputs": [],
   "source": [
    "def daily_box_office_to_json(start_date,end_date):    \n",
    "    tmp_date = start_date\n",
    "#     startDt = int(str(start_date)[0:4]+str(start_date)[5:7]+str(start_date)[8:10])\n",
    "#     endDt = int(str(end_date)[0:4]+str(end_date)[5:7]+str(end_date)[8:10])\n",
    "    days = end_date - start_date # 날짜 경과\n",
    "    for i in tqdm_notebook(range(days.days+1)):\n",
    "        targetDt = int(str(tmp_date)[0:4]+str(tmp_date)[5:7]+str(tmp_date)[8:10])\n",
    "        \n",
    "        if(os.path.isfile(movie_info_path+'raw_data/'+str(targetDt)+'.json')!=1):\n",
    "            url='http://www.kobis.or.kr/kobisopenapi/webservice/rest/boxoffice/searchDailyBoxOfficeList.json?key='+key+'&targetDt='+str(targetDt)\n",
    "            res = requests.get(url)\n",
    "            text = res.text\n",
    "            d = json.loads(text)\n",
    "            with open(movie_info_path+'raw_data/daily'+'/'+str(targetDt)+'.json', 'w', encoding=\"utf-8\") as make_file:\n",
    "                json.dump(d, make_file, ensure_ascii=False, indent=\"\\t\")\n",
    "        tmp_date += timedelta(1)"
   ]
  },
  {
   "cell_type": "code",
   "execution_count": null,
   "metadata": {},
   "outputs": [],
   "source": []
  },
  {
   "cell_type": "markdown",
   "metadata": {},
   "source": [
    "### 3) daliy_box_office_to_json 사용자 함수 실행한다."
   ]
  },
  {
   "cell_type": "code",
   "execution_count": 3,
   "metadata": {},
   "outputs": [
    {
     "data": {
      "application/vnd.jupyter.widget-view+json": {
       "model_id": "21760db5859442d58b8abbacd383549e",
       "version_major": 2,
       "version_minor": 0
      },
      "text/plain": [
       "HBox(children=(IntProgress(value=0, max=424), HTML(value='')))"
      ]
     },
     "metadata": {},
     "output_type": "display_data"
    },
    {
     "name": "stdout",
     "output_type": "stream",
     "text": [
      "\n"
     ]
    }
   ],
   "source": [
    "# 2017년 01월 ~ 2018년 02월까지 boxoffice 를 받아온다.\n",
    "start_date = date(2017,1,1)\n",
    "end_date = date(2018,2,28)\n",
    "daily_box_office_to_json(start_date,end_date)"
   ]
  },
  {
   "cell_type": "code",
   "execution_count": null,
   "metadata": {},
   "outputs": [],
   "source": []
  },
  {
   "cell_type": "markdown",
   "metadata": {},
   "source": [
    "### 4) 일별 데이터를 분석할 때 용이하도록 월별로 합친다."
   ]
  },
  {
   "cell_type": "code",
   "execution_count": 4,
   "metadata": {},
   "outputs": [],
   "source": [
    "import pandas as pd\n",
    "import requests\n",
    "from datetime import datetime\n",
    "from datetime import timedelta\n",
    "import json\n",
    "from tqdm import tqdm_notebook\n",
    "from dateutil.relativedelta import relativedelta\n",
    "\n",
    "key='ad816991534afeaef71f07e7336b0d61'\n",
    "movie_info_path='/home/ubuntu/miniii_su/movie/'"
   ]
  },
  {
   "cell_type": "code",
   "execution_count": 5,
   "metadata": {},
   "outputs": [],
   "source": [
    "def daily_boxoffice(start_date, end_date) :\n",
    "    \n",
    "    final_list = []\n",
    "\n",
    "    for single_date in tqdm_notebook(pd.date_range(start_date, end_date)) :\n",
    "        targetDt = str(single_date)[0:4]+str(single_date)[5:7]+str(single_date)[8:10]\n",
    "        with open(movie_info_path+'raw_data/daily/'+str(targetDt)+'.json', 'r', encoding=\"utf-8\") as read_file:\n",
    "            d = json.load(read_file)\n",
    "\n",
    "        for item in d[\"boxOfficeResult\"][\"dailyBoxOfficeList\"] :\n",
    "            value_list = []\n",
    "            key_list = []\n",
    "            for key, value in item.items() :\n",
    "                key_list.append(key)\n",
    "                value_list.append(value)\n",
    "\n",
    "            value_list.append(single_date)\n",
    "            key_list.append('CurrentDate')\n",
    "            final_list.append(value_list)\n",
    "\n",
    "    return pd.DataFrame(final_list, columns=key_list)"
   ]
  },
  {
   "cell_type": "code",
   "execution_count": 6,
   "metadata": {},
   "outputs": [
    {
     "data": {
      "application/vnd.jupyter.widget-view+json": {
       "model_id": "609b1a0527c04d8eacc5160881e8d448",
       "version_major": 2,
       "version_minor": 0
      },
      "text/plain": [
       "HBox(children=(IntProgress(value=0, max=14), HTML(value='')))"
      ]
     },
     "metadata": {},
     "output_type": "display_data"
    },
    {
     "data": {
      "application/vnd.jupyter.widget-view+json": {
       "model_id": "14e70834886f4fb3a8a6e2e9294f288f",
       "version_major": 2,
       "version_minor": 0
      },
      "text/plain": [
       "HBox(children=(IntProgress(value=0, max=31), HTML(value='')))"
      ]
     },
     "metadata": {},
     "output_type": "display_data"
    },
    {
     "name": "stdout",
     "output_type": "stream",
     "text": [
      "\n"
     ]
    },
    {
     "ename": "KeyError",
     "evalue": "'boxOfficeResult'",
     "output_type": "error",
     "traceback": [
      "\u001b[0;31m---------------------------------------------------------------------------\u001b[0m",
      "\u001b[0;31mKeyError\u001b[0m                                  Traceback (most recent call last)",
      "\u001b[0;32m<ipython-input-6-29471bd4399a>\u001b[0m in \u001b[0;36m<module>\u001b[0;34m\u001b[0m\n\u001b[1;32m      5\u001b[0m     \u001b[0mend_date\u001b[0m \u001b[0;34m=\u001b[0m \u001b[0mstart_date\u001b[0m \u001b[0;34m+\u001b[0m \u001b[0mrelativedelta\u001b[0m\u001b[0;34m(\u001b[0m\u001b[0mmonths\u001b[0m\u001b[0;34m=\u001b[0m\u001b[0;36m1\u001b[0m\u001b[0;34m)\u001b[0m \u001b[0;34m-\u001b[0m \u001b[0mtimedelta\u001b[0m\u001b[0;34m(\u001b[0m\u001b[0mdays\u001b[0m\u001b[0;34m=\u001b[0m\u001b[0;36m1\u001b[0m\u001b[0;34m)\u001b[0m\u001b[0;34m\u001b[0m\u001b[0;34m\u001b[0m\u001b[0m\n\u001b[1;32m      6\u001b[0m \u001b[0;34m\u001b[0m\u001b[0m\n\u001b[0;32m----> 7\u001b[0;31m     \u001b[0mdaily_boxoffice_data\u001b[0m \u001b[0;34m=\u001b[0m \u001b[0mdaily_boxoffice\u001b[0m\u001b[0;34m(\u001b[0m\u001b[0mstart_date\u001b[0m\u001b[0;34m,\u001b[0m \u001b[0mend_date\u001b[0m\u001b[0;34m)\u001b[0m\u001b[0;34m\u001b[0m\u001b[0;34m\u001b[0m\u001b[0m\n\u001b[0m\u001b[1;32m      8\u001b[0m     \u001b[0mstartdate\u001b[0m\u001b[0;34m=\u001b[0m\u001b[0mstart_date\u001b[0m\u001b[0;34m.\u001b[0m\u001b[0mstrftime\u001b[0m\u001b[0;34m(\u001b[0m\u001b[0;34m'%Y%m%d'\u001b[0m\u001b[0;34m)\u001b[0m\u001b[0;34m\u001b[0m\u001b[0;34m\u001b[0m\u001b[0m\n\u001b[1;32m      9\u001b[0m     \u001b[0menddate\u001b[0m\u001b[0;34m=\u001b[0m\u001b[0mend_date\u001b[0m\u001b[0;34m.\u001b[0m\u001b[0mstrftime\u001b[0m\u001b[0;34m(\u001b[0m\u001b[0;34m'%Y%m%d'\u001b[0m\u001b[0;34m)\u001b[0m\u001b[0;34m\u001b[0m\u001b[0;34m\u001b[0m\u001b[0m\n",
      "\u001b[0;32m<ipython-input-5-f308c2e60bde>\u001b[0m in \u001b[0;36mdaily_boxoffice\u001b[0;34m(start_date, end_date)\u001b[0m\n\u001b[1;32m      8\u001b[0m             \u001b[0md\u001b[0m \u001b[0;34m=\u001b[0m \u001b[0mjson\u001b[0m\u001b[0;34m.\u001b[0m\u001b[0mload\u001b[0m\u001b[0;34m(\u001b[0m\u001b[0mread_file\u001b[0m\u001b[0;34m)\u001b[0m\u001b[0;34m\u001b[0m\u001b[0;34m\u001b[0m\u001b[0m\n\u001b[1;32m      9\u001b[0m \u001b[0;34m\u001b[0m\u001b[0m\n\u001b[0;32m---> 10\u001b[0;31m         \u001b[0;32mfor\u001b[0m \u001b[0mitem\u001b[0m \u001b[0;32min\u001b[0m \u001b[0md\u001b[0m\u001b[0;34m[\u001b[0m\u001b[0;34m\"boxOfficeResult\"\u001b[0m\u001b[0;34m]\u001b[0m\u001b[0;34m[\u001b[0m\u001b[0;34m\"dailyBoxOfficeList\"\u001b[0m\u001b[0;34m]\u001b[0m \u001b[0;34m:\u001b[0m\u001b[0;34m\u001b[0m\u001b[0;34m\u001b[0m\u001b[0m\n\u001b[0m\u001b[1;32m     11\u001b[0m             \u001b[0mvalue_list\u001b[0m \u001b[0;34m=\u001b[0m \u001b[0;34m[\u001b[0m\u001b[0;34m]\u001b[0m\u001b[0;34m\u001b[0m\u001b[0;34m\u001b[0m\u001b[0m\n\u001b[1;32m     12\u001b[0m             \u001b[0mkey_list\u001b[0m \u001b[0;34m=\u001b[0m \u001b[0;34m[\u001b[0m\u001b[0;34m]\u001b[0m\u001b[0;34m\u001b[0m\u001b[0;34m\u001b[0m\u001b[0m\n",
      "\u001b[0;31mKeyError\u001b[0m: 'boxOfficeResult'"
     ]
    }
   ],
   "source": [
    "my_date = date(2017, 1, 1)\n",
    "movie_code_list_all=pd.DataFrame()\n",
    "for i in tqdm_notebook(range(14)): # 14개월 추출이라서 range(14)\n",
    "    start_date = my_date + relativedelta(months=i)\n",
    "    end_date = start_date + relativedelta(months=1) - timedelta(days=1)\n",
    "    \n",
    "    daily_boxoffice_data = daily_boxoffice(start_date, end_date)\n",
    "    startdate=start_date.strftime('%Y%m%d')\n",
    "    enddate=end_date.strftime('%Y%m%d')\n",
    "    \n",
    "    movie_code_list = pd.DataFrame({'movieCd' :daily_boxoffice_data.movieCd.drop_duplicates(), 'movieNm':daily_boxoffice_data.movieNm.drop_duplicates(), 'director':'','Rate' : 0})\n",
    "    \n",
    "    \n",
    "    daily_boxoffice_data.to_csv(movie_info_path+\"data/\"+\"daily_\"+startdate+\"~\"+enddate+\".csv\", index=False)\n",
    "    \n",
    "    \n",
    "    movie_code_list_all = movie_code_list.append(movie_code_list_all)\n",
    "    movie_code_list_all = movie_code_list_all.drop_duplicates()\n",
    "    movie_code_list_all.to_csv(movie_info_path+\"data/\"+\"movie_code_list_all.csv\", index=False)"
   ]
  },
  {
   "cell_type": "markdown",
   "metadata": {},
   "source": [
    "### 5)  movie_code_list_all 에 dirctors 삽입"
   ]
  },
  {
   "cell_type": "code",
   "execution_count": 7,
   "metadata": {},
   "outputs": [],
   "source": [
    "for i in range(len(movie_code_list_all)):\n",
    "    movie_code_list_all.iloc[i,1]=movie_info[movie_info_keys[i]]['directors'][0]['peopleNm']"
   ]
  },
  {
   "cell_type": "code",
   "execution_count": null,
   "metadata": {},
   "outputs": [],
   "source": []
  },
  {
   "cell_type": "code",
   "execution_count": null,
   "metadata": {},
   "outputs": [],
   "source": []
  },
  {
   "cell_type": "code",
   "execution_count": null,
   "metadata": {},
   "outputs": [],
   "source": []
  },
  {
   "cell_type": "markdown",
   "metadata": {},
   "source": [
    "### 5) 일일 데이터를 하나로 합치기\n"
   ]
  },
  {
   "cell_type": "code",
   "execution_count": null,
   "metadata": {},
   "outputs": [],
   "source": [
    "# start_date = date(2017,1,1)\n",
    "# end_date = date(2018,2,28)\n",
    "# a = daily_boxoffice(start_date, end_date)\n",
    "# a"
   ]
  },
  {
   "cell_type": "code",
   "execution_count": null,
   "metadata": {},
   "outputs": [],
   "source": []
  },
  {
   "cell_type": "code",
   "execution_count": null,
   "metadata": {},
   "outputs": [],
   "source": []
  },
  {
   "cell_type": "markdown",
   "metadata": {},
   "source": [
    "# 3.2 영화 상세정보 "
   ]
  },
  {
   "cell_type": "markdown",
   "metadata": {},
   "source": [
    "### 1) 영화 코드를 통해 영화 정보 파일 불러오기"
   ]
  },
  {
   "cell_type": "code",
   "execution_count": 9,
   "metadata": {},
   "outputs": [],
   "source": [
    "#영화데이터  : txt 로 저장 함수 정의\n",
    "def movie_data(lists) :    \n",
    "    dict_list = dict()\n",
    "    url = 'http://www.kobis.or.kr/kobisopenapi/webservice/rest/movie/searchMovieInfo.json'\n",
    "    \n",
    "    for movie in lists :\n",
    "        #print(movie)\n",
    "        dic={ 'key' : key, 'movieCd' : movie}        \n",
    "        req = requests.get(url, params = dic)\n",
    "        \n",
    "        dict_list[movie] = req.json()['movieInfoResult']['movieInfo'] #dict_list[movie] 가 있어야 append형식으로 됨. 없으면 마지막것만 추출\n",
    "    return dict_list"
   ]
  },
  {
   "cell_type": "code",
   "execution_count": 10,
   "metadata": {},
   "outputs": [
    {
     "ename": "AttributeError",
     "evalue": "'DataFrame' object has no attribute 'movieCd'",
     "output_type": "error",
     "traceback": [
      "\u001b[0;31m---------------------------------------------------------------------------\u001b[0m",
      "\u001b[0;31mAttributeError\u001b[0m                            Traceback (most recent call last)",
      "\u001b[0;32m<ipython-input-10-20c0d609e75d>\u001b[0m in \u001b[0;36m<module>\u001b[0;34m\u001b[0m\n\u001b[0;32m----> 1\u001b[0;31m \u001b[0mmovie_info\u001b[0m\u001b[0;34m=\u001b[0m\u001b[0mmovie_data\u001b[0m\u001b[0;34m(\u001b[0m\u001b[0mmovie_code_list_all\u001b[0m\u001b[0;34m.\u001b[0m\u001b[0mmovieCd\u001b[0m\u001b[0;34m)\u001b[0m\u001b[0;34m\u001b[0m\u001b[0;34m\u001b[0m\u001b[0m\n\u001b[0m\u001b[1;32m      2\u001b[0m \u001b[0mmovie_info\u001b[0m\u001b[0;34m.\u001b[0m\u001b[0mto_csv\u001b[0m\u001b[0;34m(\u001b[0m\u001b[0mmovie_info_path\u001b[0m\u001b[0;34m+\u001b[0m\u001b[0;34m'raw_data/movie_info/movie_info.csv'\u001b[0m\u001b[0;34m)\u001b[0m\u001b[0;34m\u001b[0m\u001b[0;34m\u001b[0m\u001b[0m\n",
      "\u001b[0;32m~/.local/lib/python3.6/site-packages/pandas/core/generic.py\u001b[0m in \u001b[0;36m__getattr__\u001b[0;34m(self, name)\u001b[0m\n\u001b[1;32m   4374\u001b[0m             \u001b[0;32mif\u001b[0m \u001b[0mself\u001b[0m\u001b[0;34m.\u001b[0m\u001b[0m_info_axis\u001b[0m\u001b[0;34m.\u001b[0m\u001b[0m_can_hold_identifiers_and_holds_name\u001b[0m\u001b[0;34m(\u001b[0m\u001b[0mname\u001b[0m\u001b[0;34m)\u001b[0m\u001b[0;34m:\u001b[0m\u001b[0;34m\u001b[0m\u001b[0;34m\u001b[0m\u001b[0m\n\u001b[1;32m   4375\u001b[0m                 \u001b[0;32mreturn\u001b[0m \u001b[0mself\u001b[0m\u001b[0;34m[\u001b[0m\u001b[0mname\u001b[0m\u001b[0;34m]\u001b[0m\u001b[0;34m\u001b[0m\u001b[0;34m\u001b[0m\u001b[0m\n\u001b[0;32m-> 4376\u001b[0;31m             \u001b[0;32mreturn\u001b[0m \u001b[0mobject\u001b[0m\u001b[0;34m.\u001b[0m\u001b[0m__getattribute__\u001b[0m\u001b[0;34m(\u001b[0m\u001b[0mself\u001b[0m\u001b[0;34m,\u001b[0m \u001b[0mname\u001b[0m\u001b[0;34m)\u001b[0m\u001b[0;34m\u001b[0m\u001b[0;34m\u001b[0m\u001b[0m\n\u001b[0m\u001b[1;32m   4377\u001b[0m \u001b[0;34m\u001b[0m\u001b[0m\n\u001b[1;32m   4378\u001b[0m     \u001b[0;32mdef\u001b[0m \u001b[0m__setattr__\u001b[0m\u001b[0;34m(\u001b[0m\u001b[0mself\u001b[0m\u001b[0;34m,\u001b[0m \u001b[0mname\u001b[0m\u001b[0;34m,\u001b[0m \u001b[0mvalue\u001b[0m\u001b[0;34m)\u001b[0m\u001b[0;34m:\u001b[0m\u001b[0;34m\u001b[0m\u001b[0;34m\u001b[0m\u001b[0m\n",
      "\u001b[0;31mAttributeError\u001b[0m: 'DataFrame' object has no attribute 'movieCd'"
     ]
    }
   ],
   "source": [
    "movie_info=movie_data(movie_code_list_all.movieCd) \n",
    "movie_info.to_csv(movie_info_path+'raw_data/movie_info/movie_info.csv')"
   ]
  },
  {
   "cell_type": "code",
   "execution_count": null,
   "metadata": {},
   "outputs": [],
   "source": []
  },
  {
   "cell_type": "code",
   "execution_count": null,
   "metadata": {},
   "outputs": [],
   "source": []
  },
  {
   "cell_type": "code",
   "execution_count": null,
   "metadata": {},
   "outputs": [],
   "source": []
  },
  {
   "cell_type": "code",
   "execution_count": null,
   "metadata": {},
   "outputs": [],
   "source": []
  },
  {
   "cell_type": "code",
   "execution_count": null,
   "metadata": {},
   "outputs": [],
   "source": []
  },
  {
   "cell_type": "code",
   "execution_count": null,
   "metadata": {},
   "outputs": [],
   "source": []
  },
  {
   "cell_type": "code",
   "execution_count": null,
   "metadata": {},
   "outputs": [],
   "source": []
  },
  {
   "cell_type": "code",
   "execution_count": null,
   "metadata": {},
   "outputs": [],
   "source": []
  },
  {
   "cell_type": "code",
   "execution_count": null,
   "metadata": {},
   "outputs": [],
   "source": []
  },
  {
   "cell_type": "code",
   "execution_count": null,
   "metadata": {},
   "outputs": [],
   "source": []
  },
  {
   "cell_type": "code",
   "execution_count": null,
   "metadata": {},
   "outputs": [],
   "source": []
  },
  {
   "cell_type": "code",
   "execution_count": null,
   "metadata": {},
   "outputs": [],
   "source": []
  },
  {
   "cell_type": "code",
   "execution_count": null,
   "metadata": {},
   "outputs": [],
   "source": []
  },
  {
   "cell_type": "code",
   "execution_count": null,
   "metadata": {},
   "outputs": [],
   "source": [
    "def movie_info(df):\n",
    "    for i in range(len(movie_code_list_all)):\n",
    "        movieCd = str(movie_code_list_all[i,0])\n",
    "\n",
    "        if(os.path.isfile(movie_info_path+'raw_data/movie_info/'+movieCd+\".json\")):\n",
    "#             print(movieCd+\".json already exist!\")\n",
    "            pass\n",
    "        else:\n",
    "            url = 'http://www.kobis.or.kr/kobisopenapi/webservice/rest/movie/searchMovieInfo.json?key='\\\n",
    "                +key+'&movieCd='+movieCd    \n",
    "            res = requests.get(url)\n",
    "            text = res.text\n",
    "            d = json.loads(text)\n",
    "#             print(movieCd+\".json is created!\")\n",
    "            with open(movie_info_path+'raw_data/movie_info/'+movieCd+'.json', 'w', encoding=\"utf-8\") as make_file:\n",
    "                json.dump(d, make_file, ensure_ascii=False, indent=\"\\t\")"
   ]
  },
  {
   "cell_type": "code",
   "execution_count": null,
   "metadata": {},
   "outputs": [],
   "source": [
    "#영화데이터  : txt 로 저장 함수 정의\n",
    "def movie_data(lists) :    \n",
    "    dict_list = dict()\n",
    "\n",
    "    for movie in lists :\n",
    "        with open(movie_info_path+'raw_data/movie_info/'+str(movie)+'.json', 'r', encoding=\"utf-8\") as read_file:\n",
    "            d = json.load(read_file)\n",
    "        \n",
    "        dict_list[movie] = d['movieInfoResult']['movieInfo'] #dict_list[movie] 가 있어야 append형식으로 됨. 없으면 마지막것만 추출\n",
    "    return dict_list"
   ]
  },
  {
   "cell_type": "code",
   "execution_count": null,
   "metadata": {},
   "outputs": [],
   "source": []
  },
  {
   "cell_type": "code",
   "execution_count": null,
   "metadata": {
    "scrolled": true
   },
   "outputs": [],
   "source": [
    "movie_info=movie_info(movie_code_list_all.movieCd) \n",
    "movie_info"
   ]
  },
  {
   "cell_type": "code",
   "execution_count": null,
   "metadata": {},
   "outputs": [],
   "source": [
    "\n",
    "with open('movie_info.txt', 'w', encoding='utf-8') as outfile:   #딕셔너리를 json으로 저장\n",
    "    json.dump(movie_info, outfile, ensure_ascii=False)"
   ]
  },
  {
   "cell_type": "code",
   "execution_count": null,
   "metadata": {},
   "outputs": [],
   "source": []
  },
  {
   "cell_type": "code",
   "execution_count": null,
   "metadata": {},
   "outputs": [],
   "source": [
    "movie_code_list_all = pd.read_csv(\"movie_code_list_all.csv\")\n",
    "for i in range(len(movie_code_list_all)):\n",
    "    with open('movie_info/'+str(movie_code_list_all['movieCd'][i])+'.json', 'r', encoding=\"utf-8\") as make_file:\n",
    "        d = json.load(make_file)\n",
    "    if(d['movieInfoResult']['movieInfo']['directors'] != []):\n",
    "        movie_code_list_all['director'][i]=d['movieInfoResult']['movieInfo']['directors'][0]['peopleNm']\n",
    "        \n",
    "    else:\n",
    "        movie_code_list_all['director'][i] = '---'"
   ]
  },
  {
   "cell_type": "code",
   "execution_count": null,
   "metadata": {},
   "outputs": [],
   "source": [
    "movie_code_list_all.to_csv(\"movie_code_add_director.csv\")"
   ]
  },
  {
   "cell_type": "code",
   "execution_count": null,
   "metadata": {},
   "outputs": [],
   "source": []
  }
 ],
 "metadata": {
  "kernelspec": {
   "display_name": "Python 3",
   "language": "python",
   "name": "python3"
  },
  "language_info": {
   "codemirror_mode": {
    "name": "ipython",
    "version": 3
   },
   "file_extension": ".py",
   "mimetype": "text/x-python",
   "name": "python",
   "nbconvert_exporter": "python",
   "pygments_lexer": "ipython3",
   "version": "3.6.7"
  }
 },
 "nbformat": 4,
 "nbformat_minor": 2
}

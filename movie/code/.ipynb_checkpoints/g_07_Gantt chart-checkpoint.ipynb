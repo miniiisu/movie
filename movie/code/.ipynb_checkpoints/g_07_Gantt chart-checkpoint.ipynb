{
 "cells": [
  {
   "cell_type": "code",
   "execution_count": 3,
   "metadata": {},
   "outputs": [],
   "source": [
    "import plotly \n",
    "plotly.tools.set_credentials_file(username='miniiisu', api_key='ir2MhnGwaIjYQ06K0JmM')"
   ]
  },
  {
   "cell_type": "code",
   "execution_count": 4,
   "metadata": {},
   "outputs": [
    {
     "name": "stdout",
     "output_type": "stream",
     "text": [
      "High five! You successfully sent some data to your account on plotly. View your plot in your browser at https://plot.ly/~miniiisu/0 or inside your plot.ly account where it is named 'gantt-numeric-variable'\n"
     ]
    },
    {
     "data": {
      "text/html": [
       "<iframe id=\"igraph\" scrolling=\"no\" style=\"border:none;\" seamless=\"seamless\" src=\"https://plot.ly/~miniiisu/0.embed\" height=\"600px\" width=\"900px\"></iframe>"
      ],
      "text/plain": [
       "<plotly.tools.PlotlyDisplay object>"
      ]
     },
     "execution_count": 4,
     "metadata": {},
     "output_type": "execute_result"
    }
   ],
   "source": [
    "import plotly.plotly as py\n",
    "import plotly.figure_factory as ff\n",
    "\n",
    "df = [dict(Task=\"보고서작성\", Start='2019-01-21', Finish='2019-01-23', Complete=10),\n",
    "      dict(Task=\"예측\", Start='2019-01-17', Finish='2019-01-23', Complete=20),\n",
    "      dict(Task=\"시각화\", Start='2019-01-02', Finish='2019-01-18', Complete=30),\n",
    "      dict(Task=\"통계분석\", Start='2019-01-02', Finish='2019-01-16', Complete=40),\n",
    "      dict(Task=\"데이터전처리\", Start='2018-12-17', Finish='2019-01-02', Complete=50),\n",
    "       dict(Task=\"NAVER수집\", Start='2018-12-20', Finish='2019-01-02', Complete=60),\n",
    "      dict(Task=\"KOBIS수집\", Start='2018-12-17', Finish='2018-12-24', Complete=70),\n",
    "      dict(Task=\"계획서작성\", Start='2018-12-13', Finish='2018-12-16', Complete=80),\n",
    "     dict(Task=\"아이디어회의\", Start='2018-12-10', Finish='2018-12-16', Complete=85)]\n",
    "\n",
    "\n",
    "fig = ff.create_gantt(df, colors='Greys', index_col='Complete', show_colorbar=True)\n",
    "py.iplot(fig, filename='gantt-numeric-variable', world_readable=True)"
   ]
  },
  {
   "cell_type": "code",
   "execution_count": null,
   "metadata": {},
   "outputs": [],
   "source": []
  }
 ],
 "metadata": {
  "kernelspec": {
   "display_name": "Python 3",
   "language": "python",
   "name": "python3"
  },
  "language_info": {
   "codemirror_mode": {
    "name": "ipython",
    "version": 3
   },
   "file_extension": ".py",
   "mimetype": "text/x-python",
   "name": "python",
   "nbconvert_exporter": "python",
   "pygments_lexer": "ipython3",
   "version": "3.6.2"
  }
 },
 "nbformat": 4,
 "nbformat_minor": 2
}

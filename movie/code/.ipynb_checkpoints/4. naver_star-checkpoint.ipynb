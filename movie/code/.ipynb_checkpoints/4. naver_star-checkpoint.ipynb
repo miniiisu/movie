{
 "cells": [
  {
   "cell_type": "markdown",
   "metadata": {},
   "source": [
    "# 4. 네이버 OPEN API\n",
    "\n",
    "네이버 데이터 OPEN API를 사용하여 영화별 별점과 검색량 자료를 CSV파일로 저장\n",
    "\n",
    "## 1) 네이버 별점\n",
    "\n",
    "네이버 영화에서 bs4를 이용하여 크롤링으로 관람객 평점(네이버영화예매자), 네티즌 평점, 기자평론가 평점을 수집\n",
    "\n",
    "## 2) 네이버 데이터랩\n"
   ]
  },
  {
   "cell_type": "markdown",
   "metadata": {},
   "source": [
    ".\n",
    ".\n",
    "### 4.1 네이버 별점\n",
    "\n",
    "### 1) requests 모듈로 url 내용을 가져오고 BeautifulSoup로 내용 가공한다."
   ]
  },
  {
   "cell_type": "code",
   "execution_count": 1,
   "metadata": {},
   "outputs": [],
   "source": [
    "from bs4 import BeautifulSoup\n",
    "from urllib.request import urlopen\n",
    "import requests\n",
    "import pandas as pd\n",
    "from tqdm import tqdm\n",
    "from tqdm import tqdm_notebook\n",
    "from datetime import date\n",
    "import glob\n",
    "import multiprocessing\n",
    "import os"
   ]
  },
  {
   "cell_type": "code",
   "execution_count": 2,
   "metadata": {},
   "outputs": [],
   "source": [
    "movie_info_path='/home/ubuntu/miniii_su/movie/'\n",
    "\n",
    "start_date = date(2017,1,1)\n",
    "end_date = date(2018,2,28)\n",
    "\n",
    "def naver_movie_daily_boxoffice(single_date):\n",
    "    j=0\n",
    "    movie_name=[]\n",
    "    movie_point=[]\n",
    "    targetDt = str(single_date)[0:4]+str(single_date)[5:7]+str(single_date)[8:10]\n",
    "    url = \"http://movie.naver.com/movie/sdb/rank/rmovie.nhn?sel=cnt&date=\"+targetDt\n",
    "    res = requests.get(url)\n",
    "    soup = BeautifulSoup(res.content, \"html.parser\")\n",
    "    b = soup.find_all('div','tit3') # 전체 영화의 제목 뽑아옴\n",
    "        \n",
    "    for n in range(0, len(b)):\n",
    "        movie_name.append(b[n].find('a').text)  # 전체 순위의 평점 뽑아옴\n",
    "        movie_point.append(b[n].find('a')['href'][28:])\n",
    "        \n",
    "    dff = list(zip(movie_name,movie_point))\n",
    "    dff = pd.DataFrame(dff)\n",
    "    dff.to_csv(movie_info_path+'tmp_data/'+targetDt+'.csv',index=False)"
   ]
  },
  {
   "cell_type": "code",
   "execution_count": 3,
   "metadata": {},
   "outputs": [],
   "source": [
    "cpu = os.cpu_count() # cpu 사용환경에 따라서 맞추기 위함\n",
    "date_list = pd.date_range(start_date, end_date)\n",
    "pool = multiprocessing.Pool(processes=cpu) # 여러개 동시에 돌림\n",
    "pool.map(naver_movie_daily_boxoffice,date_list)\n",
    "pool.close()\n",
    "pool.join()"
   ]
  },
  {
   "cell_type": "markdown",
   "metadata": {},
   "source": [
    "### 2) 날짜별로 수집된 csv 파일을 하나로 합치기"
   ]
  },
  {
   "cell_type": "code",
   "execution_count": 4,
   "metadata": {},
   "outputs": [],
   "source": [
    "tmp = glob.glob(movie_info_path+'tmp_data/*.csv')\n",
    "dff = pd.DataFrame()\n",
    "for i in tmp:\n",
    "    df = pd.read_csv(i)\n",
    "    dff = pd.concat([df,dff])\n",
    "dff.to_csv(movie_info_path+'data/naver_boxoffice.csv',index=False)"
   ]
  },
  {
   "cell_type": "markdown",
   "metadata": {},
   "source": [
    "### 3) 하나로 합쳐진 파일을 만들었던 각각의 날짜별 파일 삭제"
   ]
  },
  {
   "cell_type": "code",
   "execution_count": 5,
   "metadata": {},
   "outputs": [],
   "source": [
    "# tmp_data = glob.glob(movie_info_path+'tmp_data/*.csv')\n",
    "# for data in tmp_data:\n",
    "#     os.remove(data)"
   ]
  },
  {
   "cell_type": "code",
   "execution_count": 6,
   "metadata": {},
   "outputs": [
    {
     "name": "stderr",
     "output_type": "stream",
     "text": [
      "/home/ubuntu/.local/lib/python3.6/site-packages/ipykernel_launcher.py:4: FutureWarning: Sorting because non-concatenation axis is not aligned. A future version\n",
      "of pandas will change to not sort by default.\n",
      "\n",
      "To accept the future behavior, pass 'sort=False'.\n",
      "\n",
      "To retain the current behavior and silence the warning, pass 'sort=True'.\n",
      "\n",
      "  after removing the cwd from sys.path.\n"
     ]
    }
   ],
   "source": [
    "dff = pd.read_csv(movie_info_path+'data/naver_boxoffice.csv')\n",
    "dff = dff.drop_duplicates()\n",
    "dff2 = pd.DataFrame(columns=['2','3','4'])\n",
    "dff = pd.concat([dff,dff2])\n",
    "dff.to_csv(movie_info_path+'data/naver_boxoffice.csv',index=False)"
   ]
  },
  {
   "cell_type": "code",
   "execution_count": 8,
   "metadata": {},
   "outputs": [],
   "source": [
    "import numpy as np\n",
    "star1=[]\n",
    "star2=[]\n",
    "star3=[]\n",
    "list1=[]\n",
    "list2=[]\n",
    "\n",
    "\n",
    "num1=df['1']\n",
    "\n",
    "def naver_movie_rating(code):\n",
    "    df = pd.read_csv(movie_info_path+'data/naver_boxoffice.csv')\n",
    "    idx = np.where(df['1']==code)\n",
    "    \n",
    "    url1 = \"https://movie.naver.com/movie/bi/mi/basic.nhn?code=\"\n",
    "    page1 = urlopen(url1+str(code)[:-2])\n",
    "    soup1 = BeautifulSoup(page1, \"html.parser\")\n",
    "    b = soup1.find_all('span','st_on')\n",
    "    \n",
    "    if(len(b)<3):\n",
    "        df['2'][idx[0][0]] = 0\n",
    "        df['3'][idx[0][0]] = 0\n",
    "        df['4'][idx[0][0]] = 0\n",
    "    else:\n",
    "        if(b[2]['style'][6:-1] == '0'):\n",
    "            df['2'][idx[0][0]] = round(float(b[0]['style'][6:-1])/10,2) # idx가 array로 나옴\n",
    "            df['3'][idx[0][0]] = 0\n",
    "            df['4'][idx[0][0]] = round(float(b[1]['style'][6:-1])/10,2)\n",
    "        else:\n",
    "            df['2'][idx[0][0]] = round(float(b[0]['style'][6:-1])/10,2)\n",
    "            df['3'][idx[0][0]] = round(float(b[1]['style'][6:-1])/10,2)\n",
    "            df['4'][idx[0][0]] = round(float(b[2]['style'][6:-1])/10,2)\n",
    "\n",
    "    df.to_csv(movie_info_path+'data/naver_boxoffice.csv',index=False)"
   ]
  },
  {
   "cell_type": "markdown",
   "metadata": {},
   "source": [
    "### 4) naver_movie_rating 사용자 정의함수를 이용하여 별점 수집"
   ]
  },
  {
   "cell_type": "code",
   "execution_count": 9,
   "metadata": {},
   "outputs": [
    {
     "name": "stderr",
     "output_type": "stream",
     "text": [
      "  0%|          | 0/930 [00:00<?, ?it/s]/home/ubuntu/.local/lib/python3.6/site-packages/ipykernel_launcher.py:30: SettingWithCopyWarning: \n",
      "A value is trying to be set on a copy of a slice from a DataFrame\n",
      "\n",
      "See the caveats in the documentation: http://pandas.pydata.org/pandas-docs/stable/indexing.html#indexing-view-versus-copy\n",
      "/home/ubuntu/.local/lib/python3.6/site-packages/ipykernel_launcher.py:31: SettingWithCopyWarning: \n",
      "A value is trying to be set on a copy of a slice from a DataFrame\n",
      "\n",
      "See the caveats in the documentation: http://pandas.pydata.org/pandas-docs/stable/indexing.html#indexing-view-versus-copy\n",
      "/home/ubuntu/.local/lib/python3.6/site-packages/ipykernel_launcher.py:32: SettingWithCopyWarning: \n",
      "A value is trying to be set on a copy of a slice from a DataFrame\n",
      "\n",
      "See the caveats in the documentation: http://pandas.pydata.org/pandas-docs/stable/indexing.html#indexing-view-versus-copy\n",
      "  2%|▏         | 20/930 [00:12<08:51,  1.71it/s]/home/ubuntu/.local/lib/python3.6/site-packages/ipykernel_launcher.py:26: SettingWithCopyWarning: \n",
      "A value is trying to be set on a copy of a slice from a DataFrame\n",
      "\n",
      "See the caveats in the documentation: http://pandas.pydata.org/pandas-docs/stable/indexing.html#indexing-view-versus-copy\n",
      "/home/ubuntu/.local/lib/python3.6/site-packages/ipykernel_launcher.py:27: SettingWithCopyWarning: \n",
      "A value is trying to be set on a copy of a slice from a DataFrame\n",
      "\n",
      "See the caveats in the documentation: http://pandas.pydata.org/pandas-docs/stable/indexing.html#indexing-view-versus-copy\n",
      "/home/ubuntu/.local/lib/python3.6/site-packages/ipykernel_launcher.py:28: SettingWithCopyWarning: \n",
      "A value is trying to be set on a copy of a slice from a DataFrame\n",
      "\n",
      "See the caveats in the documentation: http://pandas.pydata.org/pandas-docs/stable/indexing.html#indexing-view-versus-copy\n",
      "  5%|▍         | 46/930 [00:27<08:44,  1.69it/s]/home/ubuntu/.local/lib/python3.6/site-packages/ipykernel_launcher.py:21: SettingWithCopyWarning: \n",
      "A value is trying to be set on a copy of a slice from a DataFrame\n",
      "\n",
      "See the caveats in the documentation: http://pandas.pydata.org/pandas-docs/stable/indexing.html#indexing-view-versus-copy\n",
      "/home/ubuntu/.local/lib/python3.6/site-packages/ipykernel_launcher.py:22: SettingWithCopyWarning: \n",
      "A value is trying to be set on a copy of a slice from a DataFrame\n",
      "\n",
      "See the caveats in the documentation: http://pandas.pydata.org/pandas-docs/stable/indexing.html#indexing-view-versus-copy\n",
      "/home/ubuntu/.local/lib/python3.6/site-packages/ipykernel_launcher.py:23: SettingWithCopyWarning: \n",
      "A value is trying to be set on a copy of a slice from a DataFrame\n",
      "\n",
      "See the caveats in the documentation: http://pandas.pydata.org/pandas-docs/stable/indexing.html#indexing-view-versus-copy\n",
      "100%|██████████| 930/930 [08:46<00:00,  1.76it/s]\n"
     ]
    }
   ],
   "source": [
    "df = pd.read_csv(movie_info_path+'data/naver_boxoffice.csv')\n",
    "for code in tqdm(df['1']):\n",
    "    naver_movie_rating(code)"
   ]
  },
  {
   "cell_type": "code",
   "execution_count": 10,
   "metadata": {},
   "outputs": [],
   "source": [
    "import pandas as pd\n",
    "df = pd.read_csv(movie_info_path+'data/naver_boxoffice.csv')\n",
    "df2 = df.drop_duplicates()\n",
    "df2 = df2.reset_index(drop=True)\n",
    "df2 = df2.rename(columns={df2.columns[0]:'movieNm',df2.columns[1]:'naver_movieCd', df2.columns[2]:'ntz_see_score', df2.columns[3]:'spc_score', df2.columns[4]:'ntz_score'})\n",
    "df2.to_csv(movie_info_path+'data/naver_boxoffice.csv',index=False)"
   ]
  },
  {
   "cell_type": "code",
   "execution_count": null,
   "metadata": {},
   "outputs": [],
   "source": []
  },
  {
   "cell_type": "code",
   "execution_count": null,
   "metadata": {},
   "outputs": [],
   "source": []
  },
  {
   "cell_type": "code",
   "execution_count": null,
   "metadata": {},
   "outputs": [],
   "source": []
  },
  {
   "cell_type": "code",
   "execution_count": null,
   "metadata": {},
   "outputs": [],
   "source": []
  },
  {
   "cell_type": "code",
   "execution_count": null,
   "metadata": {},
   "outputs": [],
   "source": []
  },
  {
   "cell_type": "code",
   "execution_count": null,
   "metadata": {},
   "outputs": [],
   "source": []
  }
 ],
 "metadata": {
  "kernelspec": {
   "display_name": "Python 3",
   "language": "python",
   "name": "python3"
  },
  "language_info": {
   "codemirror_mode": {
    "name": "ipython",
    "version": 3
   },
   "file_extension": ".py",
   "mimetype": "text/x-python",
   "name": "python",
   "nbconvert_exporter": "python",
   "pygments_lexer": "ipython3",
   "version": "3.6.7"
  }
 },
 "nbformat": 4,
 "nbformat_minor": 2
}

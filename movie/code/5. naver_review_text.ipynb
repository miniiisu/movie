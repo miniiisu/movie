{
 "cells": [
  {
   "cell_type": "markdown",
   "metadata": {},
   "source": [
    "# 5. 네이버 영화 리뷰\n",
    "\n",
    "### requests와 BeautifulSoup으로 웹 크롤링을 하여 네이버 영화 리뷰 등록 날짜, 별점, 내용을 수집 "
   ]
  },
  {
   "cell_type": "code",
   "execution_count": 1,
   "metadata": {},
   "outputs": [],
   "source": [
    "import requests\n",
    "from bs4 import BeautifulSoup\n",
    "from datetime import datetime\n",
    "import sys\n",
    "import pandas as pd\n",
    "from tqdm import tqdm_notebook\n",
    "from tqdm import tqdm\n",
    "import multiprocessing"
   ]
  },
  {
   "cell_type": "code",
   "execution_count": 2,
   "metadata": {},
   "outputs": [],
   "source": [
    "tqdm.monitor_interval = 0\n",
    "tqdm_notebook.monitor_interval = 0"
   ]
  },
  {
   "cell_type": "code",
   "execution_count": 3,
   "metadata": {},
   "outputs": [],
   "source": [
    "movie_info_path='/home/ubuntu/miniii_su/movie/'"
   ]
  },
  {
   "cell_type": "code",
   "execution_count": 7,
   "metadata": {
    "scrolled": false
   },
   "outputs": [],
   "source": [
    "af='after'\n",
    "be='before'\n",
    "lis = pd.read_csv(movie_info_path+'data/naver_movie_all.csv')\n",
    "movie_lis =[]\n",
    "\n",
    "for i in range(len(lis['naver_movieCd'])):\n",
    "    movie_lis.insert(i,str(lis['naver_movieCd'][i])[:-2]) # 네이버 moviecd 를 movie_lis에 삽입\n",
    "\n",
    "def func12(code):\n",
    "    try:\n",
    "        lists = []\n",
    "        test_url = 'https://movie.naver.com/movie/bi/mi/pointWriteFormList.nhn?code='+code+'&type='+af+'&onlyActualPointYn=N&order=newest'\n",
    "        resp = requests.get(test_url)\n",
    "        html = BeautifulSoup(resp.content, 'html.parser')\n",
    "        result = html.find('div', {'class':'score_total'}).find('strong').findChildren('em')[1].getText()\n",
    "        total_count = int(result.replace(',', ''))\n",
    "        print(code)\n",
    "\n",
    "        for i in tqdm_notebook(range(1,int(total_count / 10) + 2)):\n",
    "            try:\n",
    "                url = test_url + '&page=' + str(i)\n",
    "                resp = requests.get(url)\n",
    "                html = BeautifulSoup(resp.content, 'html.parser')\n",
    "                score_result = html.find('div', {'class': 'score_result'})\n",
    "                lis = score_result.findAll('li')\n",
    "\n",
    "                try:\n",
    "                    for li in lis:                \n",
    "                        a = []\n",
    "                        created_at = li.find('dt').findAll('em')[-1].getText()[0:10]\n",
    "                        created_at = created_at.replace(\".\",\"\")\n",
    "                        score = li.find('em').getText()\n",
    "                        review_text = li.find('p').getText()\n",
    "                        a = [created_at, score, review_text]\n",
    "                        lists.append(a)\n",
    "\n",
    "                except AttributeError:\n",
    "                    pass\n",
    "\n",
    "            except AttributeError:\n",
    "                pass\n",
    "            \n",
    "    except AttributeError:\n",
    "        pass\n",
    "    \n",
    "    df = pd.DataFrame(lists)\n",
    "    df.to_csv(movie_info_path+'raw_data/'+af+'/'+code+'.csv',index=False)\n",
    "\n",
    "# pool = multiprocessing.Pool(processes=8)\n",
    "# pool.map(func12,movie_lis)\n",
    "# pool.close()\n",
    "# pool.join()"
   ]
  },
  {
   "cell_type": "code",
   "execution_count": null,
   "metadata": {},
   "outputs": [],
   "source": [
    "pool = multiprocessing.Pool(processes=4)\n",
    "pool.map(func12,movie_lis)\n",
    "pool.close()\n",
    "pool.join()"
   ]
  },
  {
   "cell_type": "code",
   "execution_count": null,
   "metadata": {},
   "outputs": [],
   "source": []
  }
 ],
 "metadata": {
  "kernelspec": {
   "display_name": "Python 3",
   "language": "python",
   "name": "python3"
  },
  "language_info": {
   "codemirror_mode": {
    "name": "ipython",
    "version": 3
   },
   "file_extension": ".py",
   "mimetype": "text/x-python",
   "name": "python",
   "nbconvert_exporter": "python",
   "pygments_lexer": "ipython3",
   "version": "3.6.7"
  }
 },
 "nbformat": 4,
 "nbformat_minor": 2
}

{
 "cells": [
  {
   "cell_type": "markdown",
   "metadata": {},
   "source": [
    "### 4.2 네이버 데이터랩\n",
    "\n",
    "영화 이름과 기간을 입력해 해당기간에 해당영화를 얼마나 검색했는지 확인"
   ]
  },
  {
   "cell_type": "code",
   "execution_count": 1,
   "metadata": {},
   "outputs": [],
   "source": [
    "import os\n",
    "import sys\n",
    "import json\n",
    "import urllib.request\n",
    "from datetime import date\n",
    "import pandas as pd\n",
    "from dateutil.relativedelta import relativedelta\n",
    "from tqdm import tqdm_notebook"
   ]
  },
  {
   "cell_type": "code",
   "execution_count": 2,
   "metadata": {},
   "outputs": [],
   "source": [
    "movie_info_path='/home/ubuntu/miniii_su/movie/'"
   ]
  },
  {
   "cell_type": "code",
   "execution_count": 3,
   "metadata": {},
   "outputs": [
    {
     "data": {
      "text/plain": [
       "304"
      ]
     },
     "execution_count": 3,
     "metadata": {},
     "output_type": "execute_result"
    }
   ],
   "source": [
    "df1 = pd.read_csv(movie_info_path+'data/naver_movie_all.csv')\n",
    "start_date = date(2017,1,1)\n",
    "end_date = date(2017,12,31)\n",
    "len(df1)"
   ]
  },
  {
   "cell_type": "code",
   "execution_count": 4,
   "metadata": {},
   "outputs": [
    {
     "data": {
      "text/plain": [
       "20168323"
      ]
     },
     "execution_count": 4,
     "metadata": {},
     "output_type": "execute_result"
    }
   ],
   "source": [
    "# m_name = df1['movieNm'][0]\n",
    "# m_code = df1['movieCd'][0]\n",
    "# n_code = df1['naver_movieCd'][0]\n",
    "# m_code"
   ]
  },
  {
   "cell_type": "code",
   "execution_count": 5,
   "metadata": {},
   "outputs": [
    {
     "data": {
      "text/plain": [
       "'20180131'"
      ]
     },
     "execution_count": 5,
     "metadata": {},
     "output_type": "execute_result"
    }
   ],
   "source": [
    "# with open(movie_info_path+\"/raw_data/movie_info/\"+str(m_code)+\".json\") as data_file:    \n",
    "#     data = json.load(data_file)\n",
    "# openDt = data['movieInfoResult']['movieInfo']['openDt']\n",
    "# openDt"
   ]
  },
  {
   "cell_type": "code",
   "execution_count": 6,
   "metadata": {},
   "outputs": [
    {
     "data": {
      "text/plain": [
       "'2018-01-31'"
      ]
     },
     "execution_count": 6,
     "metadata": {},
     "output_type": "execute_result"
    }
   ],
   "source": [
    "# date(int(str(openDt)[0:4]),int(str(openDt)[4:6]),int(str(openDt)[6:8]))\n",
    "# edt = date(int(str(openDt)[0:4]),int(str(openDt)[4:6]),int(str(openDt)[6:8])) + relativedelta(months=1)\n",
    "# sdt = date(int(str(openDt)[0:4]),int(str(openDt)[4:6]),int(str(openDt)[6:8]))\n",
    "# str(sdt)"
   ]
  },
  {
   "cell_type": "code",
   "execution_count": 7,
   "metadata": {},
   "outputs": [
    {
     "data": {
      "text/plain": [
       "str"
      ]
     },
     "execution_count": 7,
     "metadata": {},
     "output_type": "execute_result"
    }
   ],
   "source": [
    "# type(str(n_code))"
   ]
  },
  {
   "cell_type": "markdown",
   "metadata": {},
   "source": [
    "### 1) naver_movie_all.csv 파일을 불러와서 \n",
    "### 영화별 검색량을 상대적인 값으로 추출"
   ]
  },
  {
   "cell_type": "code",
   "execution_count": 13,
   "metadata": {},
   "outputs": [
    {
     "data": {
      "application/vnd.jupyter.widget-view+json": {
       "model_id": "de919497d27a4d97a31309e09a03cd7f",
       "version_major": 2,
       "version_minor": 0
      },
      "text/plain": [
       "HBox(children=(IntProgress(value=0, max=304), HTML(value='')))"
      ]
     },
     "metadata": {},
     "output_type": "display_data"
    },
    {
     "name": "stdout",
     "output_type": "stream",
     "text": [
      "\n"
     ]
    }
   ],
   "source": [
    "for i in tqdm_notebook(range(len(df1['naver_movieCd']))):\n",
    "    m_name = df1['movieNm'][i]\n",
    "    m_code = df1['movieCd'][i]\n",
    "    n_code = df1['naver_movieCd'][i]\n",
    "    \n",
    "    with open(movie_info_path+'raw_data/movie_info/'+str(m_code)+'.json') as data_file:    \n",
    "        data = json.load(data_file)\n",
    "    openDt = data['movieInfoResult']['movieInfo']['openDt']\n",
    "    \n",
    "    idt = date(2016,1,1)\n",
    "    sdt = date(int(str(openDt)[0:4]),int(str(openDt)[4:6]),int(str(openDt)[6:8]))\n",
    "    edt = sdt + relativedelta(months=1)\n",
    "    \n",
    "    if(sdt > idt):\n",
    "        client_id = \"nA8Iwm4HJ6EM2W1dueU9\"\n",
    "        client_secret = \"HaEPQCPbyQ\"\n",
    "        url = \"https://openapi.naver.com/v1/datalab/search\"\n",
    "\n",
    "        body='{\\\"startDate\\\":\\\"'+str(sdt)+'\\\",\\\"endDate\\\":\\\"'+str(edt)+'\\\",\\\"timeUnit\\\":\\\"date\\\",\\\"keywordGroups\\\":[{\\\"groupName\\\":\\\"영화\\\",\\\"keywords\\\":[\\\"'+m_name+'\\\"]}]}'\n",
    "\n",
    "#         print(body)\n",
    "        request = urllib.request.Request(url)\n",
    "        request.add_header(\"X-Naver-Client-Id\",client_id)\n",
    "        request.add_header(\"X-Naver-Client-Secret\",client_secret)\n",
    "        request.add_header(\"Content-Type\",\"application/json\")\n",
    "        response = urllib.request.urlopen(request, data=body.encode(\"utf-8\"))\n",
    "        rescode = response.getcode()\n",
    "        \n",
    "        if(rescode==200):\n",
    "            response_body = response.read()\n",
    "            d = json.loads(response_body)\n",
    "            \n",
    "        else:\n",
    "            print(\"Error Code:\" + rescode)\n",
    "            \n",
    "        d['results'][0]['data']\n",
    "        df = pd.DataFrame(d['results'][0]['data'])\n",
    "        df.to_csv(movie_info_path+'raw_data/datalab/'+str(n_code)[:-2]+'.csv',index=False)\n",
    "        \n",
    "    else:\n",
    "        pass"
   ]
  },
  {
   "cell_type": "markdown",
   "metadata": {},
   "source": [
    "### 2)  \n",
    "movie_lis2 에 네이버 코드 넣기.. 3-6에서 씀 지금은 노노"
   ]
  },
  {
   "cell_type": "code",
   "execution_count": 16,
   "metadata": {},
   "outputs": [],
   "source": [
    "import requests\n",
    "from bs4 import BeautifulSoup\n",
    "from datetime import datetime\n",
    "import sys\n",
    "import os\n",
    "import pandas as pd\n",
    "from tqdm import tqdm_notebook\n",
    "import multiprocessing\n",
    "\n",
    "af='after'\n",
    "be='before'\n",
    "lis = pd.read_csv(movie_info_path+'data/naver_movie_all.csv')\n",
    "j=0\n",
    "movie_lis2=[]\n",
    "for i in range(len(lis['naver_movieCd'])):\n",
    "    if(os.path.isfile(movie_info_path+'raw_data/after/'+str(lis['naver_movieCd'][i])[:-2]+'.csv') == True):\n",
    "        movie_lis2.insert(j,str(lis['naver_movieCd'][i])[:-2])\n",
    "        j+=1"
   ]
  },
  {
   "cell_type": "markdown",
   "metadata": {},
   "source": [
    "### 2) "
   ]
  },
  {
   "cell_type": "code",
   "execution_count": 17,
   "metadata": {},
   "outputs": [
    {
     "data": {
      "application/vnd.jupyter.widget-view+json": {
       "model_id": "cd1b170512b6473a8ef746096f0c5c37",
       "version_major": 2,
       "version_minor": 0
      },
      "text/plain": [
       "HBox(children=(IntProgress(value=0, max=304), HTML(value='')))"
      ]
     },
     "metadata": {},
     "output_type": "display_data"
    },
    {
     "name": "stdout",
     "output_type": "stream",
     "text": [
      "\n"
     ]
    }
   ],
   "source": [
    "from tqdm import tqdm_notebook\n",
    "df1 = pd.read_csv(movie_info_path+'data/naver_movie_all.csv')\n",
    "\n",
    "for i in tqdm_notebook(range(len(df1))): #range(len(df1)):\n",
    "    ncd = str(df1['naver_movieCd'][i])[:-2]\n",
    "#     print(ncd)\n",
    "    try:\n",
    "        df2 = pd.read_csv(movie_info_path+'data/'+'datalab_'+ncd+'.csv')\n",
    "        df3 = pd.read_csv(movie_info_path+'data/after/after_rating/'+ncd+'_rating.csv')\n",
    "    \n",
    "        for i in range(len(df3)):\n",
    "            df3['0'][i] = str(df3['0'][i])[0:4]+\"-\"+str(df3['0'][i])[4:6]+\"-\"+str(df3['0'][i])[6:8]\n",
    "        df3.rename(columns={\"0\":\"period\"}, inplace = True)\n",
    "        df4 = pd.merge(df2,df3,how='left',on='period')\n",
    "        for i in range(len(df4)):\n",
    "            df4['1'][i] = df4['1'][i] * 100\n",
    "            df4['2'][i] = df4['2'][i] * 10\n",
    "        df4.to_csv('/home/ubuntu/movie/data/merge/'+ncd+'_merge.csv',index=False)\n",
    "    except FileNotFoundError:\n",
    "        pass"
   ]
  },
  {
   "cell_type": "code",
   "execution_count": null,
   "metadata": {},
   "outputs": [],
   "source": []
  },
  {
   "cell_type": "code",
   "execution_count": null,
   "metadata": {},
   "outputs": [],
   "source": []
  }
 ],
 "metadata": {
  "kernelspec": {
   "display_name": "Python 3",
   "language": "python",
   "name": "python3"
  },
  "language_info": {
   "codemirror_mode": {
    "name": "ipython",
    "version": 3
   },
   "file_extension": ".py",
   "mimetype": "text/x-python",
   "name": "python",
   "nbconvert_exporter": "python",
   "pygments_lexer": "ipython3",
   "version": "3.6.7"
  }
 },
 "nbformat": 4,
 "nbformat_minor": 2
}
